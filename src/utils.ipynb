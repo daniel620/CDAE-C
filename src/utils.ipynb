{
 "cells": [
  {
   "cell_type": "code",
   "execution_count": 1,
   "metadata": {},
   "outputs": [
    {
     "name": "stdout",
     "output_type": "stream",
     "text": [
      "0.bmp 1.bmp 2.bmp 3.bmp 4.bmp 5.bmp 6.bmp 7.bmp 8.bmp 9.bmp 10.bmp 11.bmp 12.bmp 13.bmp 14.bmp 15.bmp 16.bmp 17.bmp 18.bmp 19.bmp 20.bmp 21.bmp 22.bmp 23.bmp 24.bmp 25.bmp 26.bmp 27.bmp 28.bmp 29.bmp 30.bmp 31.bmp 32.bmp 33.bmp 34.bmp 35.bmp 36.bmp 37.bmp 38.bmp 39.bmp 40.bmp 41.bmp 42.bmp 43.bmp 44.bmp 45.bmp 46.bmp 47.bmp 48.bmp 49.bmp 50.bmp 51.bmp 52.bmp 53.bmp 54.bmp 55.bmp 56.bmp 57.bmp 58.bmp 59.bmp 60.bmp 61.bmp 62.bmp 63.bmp 64.bmp 65.bmp 66.bmp 67.bmp 68.bmp 69.bmp 70.bmp 71.bmp 72.bmp 73.bmp 74.bmp 75.bmp 76.bmp 77.bmp 78.bmp 79.bmp 80.bmp 81.bmp 82.bmp 83.bmp 84.bmp 85.bmp 86.bmp 87.bmp 88.bmp 89.bmp 90.bmp 91.bmp 92.bmp 93.bmp 94.bmp 95.bmp 96.bmp 97.bmp 98.bmp 99.bmp 100.bmp 101.bmp 102.bmp 103.bmp 104.bmp 105.bmp 106.bmp 107.bmp 108.bmp 109.bmp 110.bmp 111.bmp 112.bmp 113.bmp 114.bmp 115.bmp 116.bmp 117.bmp 118.bmp 119.bmp 120.bmp 121.bmp 122.bmp 123.bmp 124.bmp 125.bmp 126.bmp 127.bmp 128.bmp 129.bmp 130.bmp 131.bmp 132.bmp 133.bmp 134.bmp 135.bmp 136.bmp 137.bmp 138.bmp 139.bmp 140.bmp 141.bmp 142.bmp 143.bmp 144.bmp 145.bmp 146.bmp 147.bmp 148.bmp 149.bmp 150.bmp 151.bmp 152.bmp 153.bmp 154.bmp 155.bmp 156.bmp 157.bmp 158.bmp 159.bmp 160.bmp 161.bmp 162.bmp 163.bmp 164.bmp 165.bmp 166.bmp 167.bmp 168.bmp 169.bmp 170.bmp 171.bmp 172.bmp 173.bmp 174.bmp 175.bmp 176.bmp 177.bmp 178.bmp 179.bmp 180.bmp 181.bmp 182.bmp 183.bmp 184.bmp 185.bmp 186.bmp 187.bmp 188.bmp 189.bmp 190.bmp 191.bmp 192.bmp 193.bmp 194.bmp 195.bmp 196.bmp 197.bmp 198.bmp 199.bmp 200.bmp 201.bmp 202.bmp 203.bmp 204.bmp 205.bmp 206.bmp 207.bmp 208.bmp 209.bmp 210.bmp 211.bmp 212.bmp 213.bmp 214.bmp 215.bmp 216.bmp 217.bmp 218.bmp 219.bmp 220.bmp 221.bmp 222.bmp 223.bmp 224.bmp 225.bmp 226.bmp 227.bmp 228.bmp 229.bmp 230.bmp 231.bmp 232.bmp 233.bmp 234.bmp 235.bmp 236.bmp 237.bmp 238.bmp 239.bmp 240.bmp 241.bmp 242.bmp 243.bmp 244.bmp 245.bmp 246.bmp 247.bmp 248.bmp 249.bmp 250.bmp 251.bmp 252.bmp 253.bmp 254.bmp 255.bmp 256.bmp 257.bmp 258.bmp 259.bmp 260.bmp "
     ]
    }
   ],
   "source": [
    "import os\n",
    "file_dir =  '/Users/kuzaowuwei/Documents/GitHub/CDAE-C/data/preprocess/1-raw_bmp'\n",
    "csv_path = '/Users/kuzaowuwei/Documents/GitHub/CDAE-C/data/preprocess/1-raw_bmp.csv'\n",
    "\n",
    "# file_dir =  '/Users/kuzaowuwei/Documents/GitHub/CDAE-C/data/preprocess/3-noisy_bmp'\n",
    "# csv_path = '/Users/kuzaowuwei/Documents/GitHub/CDAE-C/data/preprocess/3-noisy_bmp.csv'\n",
    "\n",
    "\n",
    "out = open(csv_path, 'w')\n",
    "# out.writelines(\"file_path\" + \"\\n\")\n",
    "'''\n",
    "Save ordered path so that raw and noisy imgs can match.\n",
    "'''\n",
    "for root, dirs, files in os.walk(file_dir):\n",
    "    for dir in sorted(dirs):\n",
    "        bmp_list = []\n",
    "        for bmp in os.listdir(root+'/'+dir):\n",
    "            if bmp.endswith('.bmp'):\n",
    "                bmp_list.append(bmp)\n",
    "        for bmp in sorted(bmp_list, key=lambda x:int(x[:-4])):\n",
    "            print(bmp,end=' ')\n",
    "            out.writelines(root+'/'+dir+'/'+bmp + \"\\n\")\n",
    "out.close()"
   ]
  },
  {
   "cell_type": "code",
   "execution_count": 1,
   "metadata": {},
   "outputs": [
    {
     "name": "stdout",
     "output_type": "stream",
     "text": [
      "['02', '01', '03']\n",
      "['12', '11', '13']\n"
     ]
    }
   ],
   "source": [
    "import numpy as np\n",
    "a = ['01', '02', '03']\n",
    "b = ['11', '12', '13']\n",
    "state = np.random.get_state()\n",
    "np.random.shuffle(a)\n",
    "print(a)\n",
    "np.random.set_state(state)\n",
    "np.random.shuffle(b)\n",
    "print(b)"
   ]
  },
  {
   "cell_type": "code",
   "execution_count": 16,
   "metadata": {},
   "outputs": [
    {
     "name": "stdout",
     "output_type": "stream",
     "text": [
      "0.bmp 1.bmp 2.bmp 3.bmp 4.bmp 0.bmp 1.bmp 2.bmp 3.bmp 4.bmp 0.bmp 1.bmp 2.bmp 3.bmp 4.bmp 0.bmp 1.bmp 2.bmp 3.bmp 4.bmp "
     ]
    }
   ],
   "source": [
    "'''\n",
    "Scan ROI bmp files which have two-level directory \n",
    "'''\n",
    "import os\n",
    "neg_file_dir =  '/Users/kuzaowuwei/Documents/GitHub/CDAE-C/data/preprocess/5-ROI_classify/0'\n",
    "pos_file_dir =  '/Users/kuzaowuwei/Documents/GitHub/CDAE-C/data/preprocess/5-ROI_classify/1'\n",
    "\n",
    "csv_path = '/Users/kuzaowuwei/Documents/GitHub/CDAE-C/data/preprocess/5-ROI_classify.csv'\n",
    "\n",
    "# csv_path = '/Users/kuzaowuwei/Documents/GitHub/CDAE-C/data/preprocess/5-ROI_classify.csv'\n",
    "\n",
    "# file_dir =  '/Users/kuzaowuwei/Documents/GitHub/CDAE-C/data/preprocess/3-noisy_bmp'\n",
    "# csv_path = '/Users/kuzaowuwei/Documents/GitHub/CDAE-C/data/preprocess/3-noisy_bmp.csv'\n",
    "\n",
    "\n",
    "out = open(csv_path, 'w')\n",
    "out.writelines('path,id,class\\n')\n",
    "# out.writelines(\"file_path\" + \"\\n\")\n",
    "'''\n",
    "Save ordered path \n",
    "'''\n",
    "nodule_count = 0\n",
    "for root, dirs, files in os.walk(neg_file_dir):\n",
    "    for nodule_dir in dirs:\n",
    "        bmp_list = []\n",
    "        for bmp in os.listdir(root+'/' + nodule_dir):\n",
    "            if bmp.endswith('.bmp'):\n",
    "                bmp_list.append(bmp)\n",
    "        for bmp in sorted(bmp_list, key=lambda x:int(x[:-4])):\n",
    "            print(bmp,end=' ')\n",
    "            out.writelines(root+'/'+nodule_dir+'/'+bmp +','+str(nodule_count) + ','+ str(0) + \"\\n\")\n",
    "        nodule_count += 1\n",
    "for root, dirs, files in os.walk(pos_file_dir):\n",
    "    for nodule_dir in dirs:\n",
    "        bmp_list = []\n",
    "        for bmp in os.listdir(root+'/' + nodule_dir):\n",
    "            if bmp.endswith('.bmp'):\n",
    "                bmp_list.append(bmp)\n",
    "        for bmp in sorted(bmp_list, key=lambda x:int(x[:-4])):\n",
    "            print(bmp,end=' ')\n",
    "            out.writelines(root+'/'+nodule_dir+'/'+bmp +','+str(nodule_count) + ','+ str(1) + \"\\n\")\n",
    "        nodule_count += 1\n",
    "out.close()"
   ]
  },
  {
   "cell_type": "code",
   "execution_count": null,
   "metadata": {},
   "outputs": [],
   "source": [
    "'''\n",
    "Scan ROI bmp files which have two-level directory \n",
    "'''\n",
    "import os\n",
    "neg_file_dir =  '/Users/kuzaowuwei/Documents/GitHub/CDAE-C/data/preprocess/5-ROI_classify/0'\n",
    "pos_file_dir =  '/Users/kuzaowuwei/Documents/GitHub/CDAE-C/data/preprocess/5-ROI_classify/1'\n",
    "\n",
    "neg_csv_path = '/Users/kuzaowuwei/Documents/GitHub/CDAE-C/data/preprocess/5-ROI_classify_neg.csv'\n",
    "pos_csv_path = '/Users/kuzaowuwei/Documents/GitHub/CDAE-C/data/preprocess/5-ROI_classify_pos.csv'\n",
    "\n",
    "# csv_path = '/Users/kuzaowuwei/Documents/GitHub/CDAE-C/data/preprocess/5-ROI_classify.csv'\n",
    "\n",
    "# file_dir =  '/Users/kuzaowuwei/Documents/GitHub/CDAE-C/data/preprocess/3-noisy_bmp'\n",
    "# csv_path = '/Users/kuzaowuwei/Documents/GitHub/CDAE-C/data/preprocess/3-noisy_bmp.csv'\n",
    "\n",
    "\n",
    "# out.writelines(\"file_path\" + \"\\n\")\n",
    "'''\n",
    "Save ordered path \n",
    "'''\n",
    "out = open(neg_csv_path, 'w')\n",
    "for root, dirs, files in os.walk(neg_file_dir):\n",
    "\n",
    "    for nodule_dir in dirs:\n",
    "        bmp_list = []\n",
    "        for bmp in os.listdir(root+'/' + nodule_dir):\n",
    "            if bmp.endswith('.bmp'):\n",
    "                bmp_list.append(bmp)\n",
    "        for bmp in sorted(bmp_list, key=lambda x:int(x[:-4])):\n",
    "            print(bmp,end=' ')\n",
    "            out.writelines(root+'/'+nodule_dir+'/'+bmp +','+str(nodule_dir) + ','+ str(0) + \"\\n\")\n",
    "out.close()\n",
    "out = open(pos_csv_path, 'w')\n",
    "for root, dirs, files in os.walk(pos_file_dir):\n",
    "    for nodule_dir in dirs:\n",
    "        bmp_list = []\n",
    "        for bmp in os.listdir(root+'/' + nodule_dir):\n",
    "            if bmp.endswith('.bmp'):\n",
    "                bmp_list.append(bmp)\n",
    "        for bmp in sorted(bmp_list, key=lambda x:int(x[:-4])):\n",
    "            print(bmp,end=' ')\n",
    "            out.writelines(root+'/'+nodule_dir+'/'+bmp +','+str(nodule_dir) + ','+ str(1) + \"\\n\")\n",
    "out.close()"
   ]
  }
 ],
 "metadata": {
  "interpreter": {
   "hash": "9ce4fd1792a08c55004df13a80be1ff164ae085b96fe91a2e77954f1292bca6d"
  },
  "kernelspec": {
   "display_name": "Python 3.7.4 ('base')",
   "language": "python",
   "name": "python3"
  },
  "language_info": {
   "codemirror_mode": {
    "name": "ipython",
    "version": 3
   },
   "file_extension": ".py",
   "mimetype": "text/x-python",
   "name": "python",
   "nbconvert_exporter": "python",
   "pygments_lexer": "ipython3",
   "version": "3.7.4"
  },
  "orig_nbformat": 4
 },
 "nbformat": 4,
 "nbformat_minor": 2
}
