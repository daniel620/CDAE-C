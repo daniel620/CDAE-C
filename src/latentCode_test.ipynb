{
 "cells": [
  {
   "cell_type": "code",
   "execution_count": 1,
   "metadata": {},
   "outputs": [],
   "source": [
    "import numpy as np\n",
    "import pandas as pd\n",
    "import os\n",
    "from tensorflow.keras.preprocessing import image\n",
    "import matplotlib.pyplot as plt\n",
    "from tensorflow.keras.models import Sequential, Model\n",
    "from tensorflow.keras.layers import Dense, Conv2D, MaxPooling2D,MaxPool2D ,UpSampling2D, Flatten, Input\n",
    "from tensorflow.keras.optimizers import  Adam\n",
    "# adam = adam_v2.Adam(lr=0.001, beta_1=0.9, beta_2=0.999, epsilon=1e-08)\n",
    "from tensorflow.keras import backend as K\n",
    "import tensorflow as tf\n",
    "from tensorflow.keras.callbacks import EarlyStopping\n",
    "import cv2\n",
    "from math import log10,sqrt"
   ]
  },
  {
   "cell_type": "code",
   "execution_count": 2,
   "metadata": {},
   "outputs": [],
   "source": [
    "def autoencoder():\n",
    "  input_img=Input(shape=(None,None,1),name='image_input')\n",
    "  #enoder \n",
    "  x = Conv2D(64, (3,3), activation='relu', padding='same', name='Conv1')(input_img)\n",
    "  x = MaxPooling2D((2,2), padding='same', name='pool1')(x)\n",
    "  x = Conv2D(64, (3,3), activation='relu', padding='same', name='Conv2')(x)\n",
    "  x = MaxPooling2D((2,2), padding='same', name='pool2')(x)\n",
    "   \n",
    "  #decoder\n",
    "  x = Conv2D(64, (3,3), activation='relu', padding='same', name='Conv3')(x)\n",
    "  x = UpSampling2D((2,2), name='upsample1')(x)\n",
    "  x = Conv2D(64, (3,3), activation='relu', padding='same', name='Conv4')(x)\n",
    "  x = UpSampling2D((2,2), name='upsample2')(x)\n",
    "  x = Conv2D(1, (3,3), activation='sigmoid', padding='same', name='Conv5')(x)\n",
    "   \n",
    "  #model\n",
    "  autoencoder = Model(inputs=input_img, outputs=x)\n",
    "  autoencoder.compile(optimizer='adam', loss='binary_crossentropy')\n",
    "    \n",
    "  return autoencoder"
   ]
  },
  {
   "cell_type": "code",
   "execution_count": 3,
   "metadata": {},
   "outputs": [
    {
     "name": "stderr",
     "output_type": "stream",
     "text": [
      "2022-04-09 20:31:19.282593: I tensorflow/core/platform/cpu_feature_guard.cc:142] This TensorFlow binary is optimized with oneAPI Deep Neural Network Library (oneDNN)to use the following CPU instructions in performance-critical operations:  AVX2 FMA\n",
      "To enable them in other operations, rebuild TensorFlow with the appropriate compiler flags.\n",
      "2022-04-09 20:31:19.333673: I tensorflow/compiler/xla/service/service.cc:168] XLA service 0x7ff077f29640 initialized for platform Host (this does not guarantee that XLA will be used). Devices:\n",
      "2022-04-09 20:31:19.333705: I tensorflow/compiler/xla/service/service.cc:176]   StreamExecutor device (0): Host, Default Version\n"
     ]
    }
   ],
   "source": [
    "model = autoencoder()"
   ]
  },
  {
   "cell_type": "code",
   "execution_count": 4,
   "metadata": {},
   "outputs": [
    {
     "name": "stdout",
     "output_type": "stream",
     "text": [
      "Model: \"functional_1\"\n",
      "_________________________________________________________________\n",
      "Layer (type)                 Output Shape              Param #   \n",
      "=================================================================\n",
      "image_input (InputLayer)     [(None, None, None, 1)]   0         \n",
      "_________________________________________________________________\n",
      "Conv1 (Conv2D)               (None, None, None, 64)    640       \n",
      "_________________________________________________________________\n",
      "pool1 (MaxPooling2D)         (None, None, None, 64)    0         \n",
      "_________________________________________________________________\n",
      "Conv2 (Conv2D)               (None, None, None, 64)    36928     \n",
      "_________________________________________________________________\n",
      "pool2 (MaxPooling2D)         (None, None, None, 64)    0         \n",
      "_________________________________________________________________\n",
      "Conv3 (Conv2D)               (None, None, None, 64)    36928     \n",
      "_________________________________________________________________\n",
      "upsample1 (UpSampling2D)     (None, None, None, 64)    0         \n",
      "_________________________________________________________________\n",
      "Conv4 (Conv2D)               (None, None, None, 64)    36928     \n",
      "_________________________________________________________________\n",
      "upsample2 (UpSampling2D)     (None, None, None, 64)    0         \n",
      "_________________________________________________________________\n",
      "Conv5 (Conv2D)               (None, None, None, 1)     577       \n",
      "=================================================================\n",
      "Total params: 112,001\n",
      "Trainable params: 112,001\n",
      "Non-trainable params: 0\n",
      "_________________________________________________________________\n"
     ]
    }
   ],
   "source": [
    "model.summary()"
   ]
  },
  {
   "cell_type": "code",
   "execution_count": 5,
   "metadata": {},
   "outputs": [
    {
     "data": {
      "text/plain": [
       "<tensorflow.python.keras.layers.convolutional.Conv2D at 0x7ff07698d1d0>"
      ]
     },
     "execution_count": 5,
     "metadata": {},
     "output_type": "execute_result"
    }
   ],
   "source": [
    "model.layers[5]"
   ]
  },
  {
   "cell_type": "code",
   "execution_count": 6,
   "metadata": {},
   "outputs": [],
   "source": [
    "get_latentCode_output = K.function([model.layers[0].input],\n",
    "                                  [model.layers[5].output])\n"
   ]
  },
  {
   "cell_type": "code",
   "execution_count": 10,
   "metadata": {},
   "outputs": [
    {
     "data": {
      "text/plain": [
       "(1, 16, 12, 64)"
      ]
     },
     "execution_count": 10,
     "metadata": {},
     "output_type": "execute_result"
    }
   ],
   "source": [
    "input_random = np.random.rand(1,64,48,1)\n",
    "layer_output = get_latentCode_output([input_random])[0]\n",
    "layer_output.shape"
   ]
  },
  {
   "cell_type": "code",
   "execution_count": null,
   "metadata": {},
   "outputs": [],
   "source": []
  }
 ],
 "metadata": {
  "interpreter": {
   "hash": "9ce4fd1792a08c55004df13a80be1ff164ae085b96fe91a2e77954f1292bca6d"
  },
  "kernelspec": {
   "display_name": "Python 3.7.4 ('base')",
   "language": "python",
   "name": "python3"
  },
  "language_info": {
   "codemirror_mode": {
    "name": "ipython",
    "version": 3
   },
   "file_extension": ".py",
   "mimetype": "text/x-python",
   "name": "python",
   "nbconvert_exporter": "python",
   "pygments_lexer": "ipython3",
   "version": "3.7.4"
  },
  "orig_nbformat": 4
 },
 "nbformat": 4,
 "nbformat_minor": 2
}
